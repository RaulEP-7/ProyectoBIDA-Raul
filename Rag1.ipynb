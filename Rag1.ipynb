{
 "cells": [
  {
   "cell_type": "code",
   "execution_count": null,
   "metadata": {},
   "outputs": [],
   "source": [
    "!pip install langchain langchain_ollama\n",
    "!pip install chromadb sentence-transformers langchain_huggingface langchain_chroma\n",
    "!pip install gradio\n",
    "!pip install bs4\n"
   ]
  },
  {
   "cell_type": "markdown",
   "metadata": {},
   "source": [
    "## Librerias que necesitamos"
   ]
  },
  {
   "cell_type": "code",
   "execution_count": 23,
   "metadata": {},
   "outputs": [],
   "source": [
    "import requests\n",
    "from bs4 import BeautifulSoup\n",
    "from langchain.prompts import ChatPromptTemplate\n",
    "from langchain_ollama.chat_models import ChatOllama\n",
    "from langchain_core.runnables import RunnablePassthrough\n",
    "from langchain_core.output_parsers import StrOutputParser"
   ]
  },
  {
   "cell_type": "code",
   "execution_count": 39,
   "metadata": {},
   "outputs": [],
   "source": [
    "\n",
    "url = 'https://en.wikipedia.org/wiki/Deportivo_de_La_Coru%C3%B1a'\n",
    "response = requests.get(url)\n",
    "if response.status_code == 200:\n",
    "    soup = BeautifulSoup(response.content, 'html.parser')\n",
    "    text = soup.get_text(separator=\"\\n\", strip=True)"
   ]
  },
  {
   "cell_type": "code",
   "execution_count": 25,
   "metadata": {},
   "outputs": [
    {
     "name": "stderr",
     "output_type": "stream",
     "text": [
      "Created a chunk of size 1056, which is longer than the specified 1000\n"
     ]
    }
   ],
   "source": [
    "from langchain.text_splitter import CharacterTextSplitter\n",
    "\n",
    "text_splitter = CharacterTextSplitter(\n",
    "    separator=\"\\n\",\n",
    "    chunk_size=1000,  \n",
    "    chunk_overlap=100,  \n",
    "    length_function=len\n",
    ")\n",
    "chunks = text_splitter.split_text(text)"
   ]
  },
  {
   "cell_type": "code",
   "execution_count": 27,
   "metadata": {},
   "outputs": [],
   "source": [
    "from langchain_huggingface import HuggingFaceEmbeddings\n",
    "\n",
    "embeddings = HuggingFaceEmbeddings(model_name=\"sentence-transformers/all-mpnet-base-v2\")"
   ]
  },
  {
   "cell_type": "code",
   "execution_count": 28,
   "metadata": {},
   "outputs": [],
   "source": [
    "from langchain_chroma import Chroma\n",
    "\n",
    "\n",
    "vector_store = Chroma.from_texts(\n",
    "    texts=chunks,\n",
    "    collection_name=\"futbol\",\n",
    "    embedding=embeddings,\n",
    "    persist_directory=\"./datasets\"\n",
    ")"
   ]
  },
  {
   "cell_type": "code",
   "execution_count": 29,
   "metadata": {},
   "outputs": [
    {
     "name": "stdout",
     "output_type": "stream",
     "text": [
      "* [SIM=0.432555] . Professional Football Researchers Association. Archived from\n",
      "the original\n",
      "(PDF)\n",
      "on 11 June 2014\n",
      ". Retrieved\n",
      "26 January\n",
      "2010\n",
      ".\n",
      "^\n",
      "a\n",
      "b\n",
      "Meacham, Scott (2006).\n",
      "\"Old Division Football, The Indigenous Mob Soccer Of Dartmouth College (pdf)\"\n",
      "(PDF)\n",
      ". dartmo.com.\n",
      "Archived\n",
      "(PDF)\n",
      "from the original on 16 June 2007\n",
      ". Retrieved\n",
      "16 May\n",
      "2007\n",
      ".\n",
      "^\n",
      "Lewis, Guy M. (1969). \"Teddy Roosevelt's Role in the 1905 Football Controversy\".\n",
      "The Research Quarterly\n",
      ".\n",
      "40\n",
      "(4): 717–724.\n",
      "PMID\n",
      "4903389\n",
      ".\n",
      "^\n",
      "A history of Winchester College. by Arthur F Leach. Duckworth, 1899\n",
      "ISBN\n",
      "1-4446-5884-0\n",
      "^\n",
      "\"2003, \"Richard Mulcaster\"\n",
      "\"\n",
      ". Footballnetwork.org. Archived from\n",
      "the original\n",
      "on 15 April 2010\n",
      ". Retrieved\n",
      "19 June\n",
      "2010\n",
      ".\n",
      "^\n",
      "Francis Peabody Magoun. (1938) History of football from the beginnings to 1871. p.27. Retrieved 2010-02-09.\n",
      "^\n",
      "Rowley, Christopher (2015).\n",
      "The Shared Origins of Football, Rugby, and Soccer\n",
      ". Rowman & Littlefield. p. 86.\n",
      "ISBN\n",
      "978-1-4422-4619-5\n",
      ".\n",
      "Archived\n",
      "from the original on 27 February 2023\n",
      ". Retrieved\n",
      "23 July\n",
      "* [SIM=0.458922] ^\n",
      "Bell's Life in London and Sporting Chronicle, 5 November 1870, issue 2\n",
      "^\n",
      "Bell's Life in London and Sporting Chronicle, 18 November 1871, issue 2, 681\n",
      "^\n",
      "Bell's Life in London and Sporting Chronicle, 17 February 1872, issue 2694\n",
      "^\n",
      "The Derby Mercury (Derby, England), Wednesday, 20 March 1872; Issue 8226\n",
      "^\n",
      "Murphy, Brendan (2007).\n",
      "From Sheffield with Love\n",
      ". Sports Book Limited. p. 59.\n",
      "ISBN\n",
      "978-1-899807-56-7\n",
      ".\n",
      "Archived\n",
      "from the original on 27 February 2023\n",
      ". Retrieved\n",
      "23 July\n",
      "2018\n",
      ".\n",
      "^\n",
      "Association Football, chapter by CW Alcock, The English Illustrated Magazine 1891, page 287\n",
      "^\n",
      "Harvey, Adrian (2005).\n",
      "Football, the First Hundred Years\n",
      ". Routledge. pp. 273, ref 34–119.\n",
      "ISBN\n",
      "978-0-415-35019-8\n",
      ".\n",
      "Archived\n",
      "from the original on 1 May 2017\n",
      ". Retrieved\n",
      "23 September\n",
      "2016\n",
      ".\n",
      "^\n",
      "Csanadi Arpad, Hungarian coaching manual \"Soccer\", Corvina, Budapest 1965\n",
      "^\n",
      "Wilson Jonathon, Inverting the pyramid: a History of Football Tactics, Orion, 2008\n",
      "^\n",
      "\"Rugby Football History\"\n",
      ".\n",
      "rugbyfootballhistory.com\n",
      ".\n",
      "Archived\n",
      "* [SIM=0.461360] Football Canada\n",
      ". Archived from\n",
      "the original\n",
      "on 28 February 2007\n",
      ". Retrieved\n",
      "23 December\n",
      "2006\n",
      ".\n",
      "^\n",
      "a\n",
      "b\n",
      "\"Timeline 1860s\"\n",
      ".\n",
      "Official Site of the Canadian Football League\n",
      ". Canadian Football League. Archived from\n",
      "the original\n",
      "on 1 May 2010\n",
      ". Retrieved\n",
      "13 July\n",
      "2010\n",
      ".\n",
      "^\n",
      "\"The History of Football\"\n",
      ".\n",
      "The History of Sports\n",
      ". Saperecom. 2007.\n",
      "Archived\n",
      "from the original on 27 May 2007\n",
      ". Retrieved\n",
      "15 May\n",
      "2007\n",
      ".\n",
      "^\n",
      "\"1800s\"\n",
      ".\n",
      "Rutgers Through The Years\n",
      ". Rutgers University. Archived from\n",
      "the original\n",
      "on 20 January 2007\n",
      ". Retrieved\n",
      "16 May\n",
      "2007\n",
      ".\n",
      "^\n",
      "\"No Christian End! The Beginnings of Football in America\"\n",
      "(PDF)\n",
      ".\n",
      "The Professional Football Researchers Association\n",
      ". Archived from\n",
      "the original\n",
      "(PDF)\n",
      "on 11 June 2014.\n",
      "^\n",
      "\"History – CFL.ca – Official Site of the Canadian Football League\"\n",
      ".\n",
      "CFL.ca\n",
      ". Archived from\n",
      "the original\n",
      "on 13 December 2014\n",
      ". Retrieved\n",
      "1 December\n",
      "2014\n",
      ".\n",
      "^\n",
      "\"gridiron football (sport)\"\n",
      ".\n",
      "Britannica Online Encyclopedia\n",
      ".\n",
      "Archived\n",
      "from the original on 14 June 2010\n",
      ". Retrieved\n",
      "13 July\n",
      "2010\n",
      ".\n",
      "^\n",
      "a\n"
     ]
    }
   ],
   "source": [
    "results = vector_store.similarity_search_with_score(\n",
    "    \"The History of Football\", k=3,\n",
    ")\n",
    "for res, score in results:\n",
    "    print(f\"* [SIM={score:3f}] {res.page_content}\")\n"
   ]
  },
  {
   "cell_type": "code",
   "execution_count": 30,
   "metadata": {},
   "outputs": [],
   "source": [
    "retriever = vector_store.as_retriever(\n",
    "    search_type=\"similarity\",  search_kwargs={\"k\": 3}\n",
    ")"
   ]
  },
  {
   "cell_type": "code",
   "execution_count": null,
   "metadata": {},
   "outputs": [
    {
     "name": "stdout",
     "output_type": "stream",
     "text": [
      "Resultado 1:\n",
      "Goals or points resulting from players putting the ball between two\n",
      "goalposts\n",
      ".\n",
      "The goal or line being\n",
      "defended\n",
      "by the opposing team.\n",
      "Players using only their body to move the ball, i.e. no additional equipment such as bats or sticks.\n",
      "In all codes, common skills include\n",
      "passing\n",
      ",\n",
      "tackling\n",
      ", evasion of tackles, catching and\n",
      "kicking\n",
      ".\n",
      "[\n",
      "10\n",
      "]\n",
      "In most codes, there are rules restricting the movement of players\n",
      "offside\n",
      ", and players scoring a goal must put the ball either under or over a\n",
      "crossbar\n",
      "between the\n",
      "goalposts\n",
      ".\n",
      "Etymology\n",
      "Main article:\n",
      "Football\n",
      "(word)\n",
      "There are conflicting explanations of the origin of the word \"football\".  It is widely assumed that the word \"football\" (or the phrase \"foot ball\") refers to the action of the foot kicking a ball.\n",
      "[\n",
      "13\n",
      "]\n",
      "There is an alternative explanation, which is that football originally referred to a variety of games in\n",
      "medieval Europe\n",
      "that were played\n",
      "on foot\n",
      ".\n",
      "[\n",
      "14\n",
      "]\n",
      "There is no conclusive evidence for either explanation.\n",
      "Early history\n",
      "\n",
      "Resultado 2:\n",
      "English-speaking world\n",
      ". Most often, the word\n",
      "football\n",
      "is used to refer to the code of football that is considered dominant within a particular region (which is association football in most countries). So, effectively, what the word\n",
      "football\n",
      "means usually depends on where one says it.\n",
      "Heading from The Sportsman (London) front page of 25 November 1910, illustrating the continued use of the word \"football\" to encompass both association football and rugby\n",
      "In each of the United Kingdom, the United States, and Canada, one football code is known solely as\n",
      "football\n",
      ", while the others generally require a qualifier. In New Zealand,\n",
      "football\n",
      "historically referred to\n",
      "rugby union\n",
      ", but more recently may be used unqualified to refer to association football. The sport meant by the word\n",
      "football\n",
      "in Australia is either\n",
      "Australian rules football\n",
      "or\n",
      "rugby league\n",
      ", depending on local popularity (which largely conforms to the\n",
      "Barassi Line\n",
      "). In\n",
      "francophone\n",
      "Quebec\n",
      ", where\n",
      "Canadian football\n",
      "\n",
      "Resultado 3:\n",
      "King\n",
      "Henry IV of England\n",
      "also presented one of the earliest documented uses of the English word \"football\", in 1409, when he issued a proclamation forbidding the levying of money for \"foteball\".\n",
      "[\n",
      "41\n",
      "]\n",
      "[\n",
      "45\n",
      "]\n",
      "There is also an account in\n",
      "Latin\n",
      "from the end of the 15th century of football being played at\n",
      "Caunton\n",
      ", Nottinghamshire. This is the first description of a \"kicking game\" and the first description of\n",
      "dribbling\n",
      ": \"[t]he game at which they had met for common recreation is called by some the foot-ball game. It is one in which young men, in country sport, propel a huge ball not by throwing it into the air but by striking it and rolling it along the ground, and that not with their hands but with their feet... kicking in opposite directions.\" The chronicler gives the earliest reference to a football pitch, stating that: \"[t]he boundaries have been marked and the game had started.\n",
      "[\n",
      "41\n",
      "]\n",
      "Oldest known painting of foot-ball in Scotland, by\n",
      "Alexander Carse\n",
      ",\n",
      "c.\n",
      "1810\n",
      "\"Football\" in Scotland,\n",
      "\n"
     ]
    }
   ],
   "source": [
    "query = \"What is football\"\n",
    "results = retriever.get_relevant_documents(query)  \n",
    "\n",
    "for i, result in enumerate(results):\n",
    "    print(f\"Resultado {i+1}:\")\n",
    "    print(result.page_content) \n",
    "    print()"
   ]
  },
  {
   "cell_type": "code",
   "execution_count": 33,
   "metadata": {},
   "outputs": [],
   "source": [
    "template = \"\"\"Answer the question based only on the following context:\n",
    "{context}\n",
    "\n",
    "Question: {question}\n",
    "\"\"\"\n",
    "prompt = ChatPromptTemplate.from_template(template)\n",
    "\n",
    "ollama_llm = \"llama3.2\"\n",
    "model_local = ChatOllama(model=ollama_llm)\n",
    "\n",
    "chain = (\n",
    "    {\"context\": retriever, \"question\": RunnablePassthrough()}\n",
    "    | prompt\n",
    "    | model_local\n",
    "    | StrOutputParser()\n",
    ")"
   ]
  },
  {
   "cell_type": "code",
   "execution_count": 43,
   "metadata": {},
   "outputs": [
    {
     "data": {
      "text/plain": [
       "'There is no mention of Deportivo de La Coruña in the provided context. The documents appear to be related to the history of football, but they do not provide information about a team called Deportivo de La Coruña.'"
      ]
     },
     "execution_count": 43,
     "metadata": {},
     "output_type": "execute_result"
    }
   ],
   "source": [
    "chain.invoke(\"When was Deportivo de La Coruña founded?\")"
   ]
  },
  {
   "cell_type": "markdown",
   "metadata": {},
   "source": [
    "## Crear GUI"
   ]
  },
  {
   "cell_type": "code",
   "execution_count": 41,
   "metadata": {},
   "outputs": [],
   "source": [
    "def search_chroma(query, top_k):\n",
    "    try:   \n",
    "        results = vector_store.similarity_search(query, k=top_k)\n",
    "        return \"\\n\\n\".join(\n",
    "            [f\"**Result {i+1}:**\\n{doc.page_content}\" for i, doc in enumerate(results)]\n",
    "        )\n",
    "    except Exception as e:\n",
    "        return f\"Error: {e}\""
   ]
  },
  {
   "cell_type": "code",
   "execution_count": 42,
   "metadata": {},
   "outputs": [],
   "source": [
    "import gradio as gr"
   ]
  },
  {
   "cell_type": "code",
   "execution_count": 44,
   "metadata": {},
   "outputs": [
    {
     "name": "stdout",
     "output_type": "stream",
     "text": [
      "* Running on local URL:  http://127.0.0.1:7860\n",
      "\n",
      "To create a public link, set `share=True` in `launch()`.\n"
     ]
    },
    {
     "data": {
      "text/html": [
       "<div><iframe src=\"http://127.0.0.1:7860/\" width=\"100%\" height=\"500\" allow=\"autoplay; camera; microphone; clipboard-read; clipboard-write;\" frameborder=\"0\" allowfullscreen></iframe></div>"
      ],
      "text/plain": [
       "<IPython.core.display.HTML object>"
      ]
     },
     "metadata": {},
     "output_type": "display_data"
    },
    {
     "data": {
      "text/plain": []
     },
     "execution_count": 44,
     "metadata": {},
     "output_type": "execute_result"
    }
   ],
   "source": [
    "with gr.Blocks() as demo:\n",
    "    gr.Markdown(\"### Chroma Database Search\")\n",
    "    \n",
    "    with gr.Row():\n",
    "        query_input = gr.Textbox(label=\"Enter Your Query\", placeholder=\"Type your question here...\")\n",
    "        top_k_input = gr.Slider(1, 10, step=1, value=5, label=\"Number of Results\")\n",
    "\n",
    "    search_button = gr.Button(\"Search\")\n",
    "    output_box = gr.Textbox(label=\"Search Results\", lines=15)\n",
    "\n",
    "    search_button.click(fn=search_chroma, inputs=[query_input, top_k_input], outputs=output_box)\n",
    "\n",
    "demo.launch()"
   ]
  }
 ],
 "metadata": {
  "kernelspec": {
   "display_name": "proyecto-bida",
   "language": "python",
   "name": "python3"
  },
  "language_info": {
   "codemirror_mode": {
    "name": "ipython",
    "version": 3
   },
   "file_extension": ".py",
   "mimetype": "text/x-python",
   "name": "python",
   "nbconvert_exporter": "python",
   "pygments_lexer": "ipython3",
   "version": "3.12.7"
  }
 },
 "nbformat": 4,
 "nbformat_minor": 2
}
