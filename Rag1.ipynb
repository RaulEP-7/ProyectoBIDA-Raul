{
 "cells": [
  {
   "cell_type": "code",
   "execution_count": null,
   "metadata": {},
   "outputs": [],
   "source": [
    "!pip install langchain langchain_ollama\n",
    "!pip install chromadb sentence-transformers langchain_huggingface langchain_chroma\n",
    "!pip install gradio\n",
    "!pip install bs4\n"
   ]
  },
  {
   "cell_type": "markdown",
   "metadata": {},
   "source": [
    "## Librerias que necesitamos"
   ]
  },
  {
   "cell_type": "code",
   "execution_count": 49,
   "metadata": {},
   "outputs": [],
   "source": [
    "import requests\n",
    "from bs4 import BeautifulSoup\n",
    "from langchain.prompts import ChatPromptTemplate\n",
    "from langchain_ollama.chat_models import ChatOllama\n",
    "from langchain_core.runnables import RunnablePassthrough\n",
    "from langchain_core.output_parsers import StrOutputParser"
   ]
  },
  {
   "cell_type": "code",
   "execution_count": 50,
   "metadata": {},
   "outputs": [],
   "source": [
    "\n",
    "url = 'https://www.rcdeportivo.es/anosahistoria'\n",
    "response = requests.get(url)\n",
    "if response.status_code == 200:\n",
    "    soup = BeautifulSoup(response.content, 'html.parser')\n",
    "    text = soup.get_text(separator=\"\\n\", strip=True)"
   ]
  },
  {
   "cell_type": "code",
   "execution_count": 51,
   "metadata": {},
   "outputs": [],
   "source": [
    "from langchain.text_splitter import CharacterTextSplitter\n",
    "\n",
    "text_splitter = CharacterTextSplitter(\n",
    "    separator=\"\\n\",\n",
    "    chunk_size=1000,  \n",
    "    chunk_overlap=100,  \n",
    "    length_function=len\n",
    ")\n",
    "chunks = text_splitter.split_text(text)"
   ]
  },
  {
   "cell_type": "code",
   "execution_count": 52,
   "metadata": {},
   "outputs": [],
   "source": [
    "from langchain_huggingface import HuggingFaceEmbeddings\n",
    "\n",
    "embeddings = HuggingFaceEmbeddings(model_name=\"sentence-transformers/all-mpnet-base-v2\")"
   ]
  },
  {
   "cell_type": "code",
   "execution_count": 53,
   "metadata": {},
   "outputs": [],
   "source": [
    "from langchain_chroma import Chroma\n",
    "\n",
    "\n",
    "vector_store = Chroma.from_texts(\n",
    "    texts=chunks,\n",
    "    collection_name=\"futbol\",\n",
    "    embedding=embeddings,\n",
    "    persist_directory=\"./datasets\"\n",
    ")"
   ]
  },
  {
   "cell_type": "code",
   "execution_count": 54,
   "metadata": {},
   "outputs": [
    {
     "name": "stdout",
     "output_type": "stream",
     "text": [
      "* [SIM=0.629696] RCDEPORTIVO\n",
      "El RC Deportivo visita la exposición sobre la vida y obra de Cheché Martín\n",
      "El Dépor, único equipo campeón de las tres primeras categorías del fútbol español\n",
      "#OSNOSOS\n",
      "Ignacio García Vázquez, coordinador del fútbol base y directivo del RC Deportivo entre 1986 y 1988, falleció a los 77 años de edad\n",
      "#ANOSAHISTORIA\n",
      "El RC Deportivo recibió en ABANCA-RIAZOR a Pauleta, campeón de Liga como blanquiazul en 2000\n",
      "#ANOSAHISTORIA\n",
      "Vegazo, extremo deportivista a mediados de los años 50, falleció a los 90 años\n",
      "#ANOSAHISTORIA\n",
      "Celestino Ledo, jugador deportivista en la temporada 1954-55, falleció a los 89 años\n",
      "#ANOSAHISTORIA\n",
      "Paco Lodeiro Barbeito, directivo deportivista entre 1982 y 1986, falleció hoy a los 85 años\n",
      "#ANOSAHISTORIA\n",
      "Cano, jugador del Dépor entre 1983 y 1985, falleció a los 67 años\n",
      "#ANOSAHISTORIA\n",
      "Fallece Luis 'el Chato', icono blanquiazul de los años 60 y 70\n",
      "#ANOSAHISTORIA\n",
      "Ver más\n",
      "Aviso Legal y Condiciones de Uso\n",
      "Política de cookies\n",
      "Política de privacidad\n",
      "Configuración de cookies\n",
      "* [SIM=0.664809] Indicadores TI\n",
      "Descargas\n",
      "Contacto\n",
      "Canal Ético\n",
      "ES\n",
      "#ANOSAHISTORIA\n",
      "El RC Deportivo ha conquistado siete títulos oficiales a lo largo de su historia. Un Campeonato de Liga (1999-2000), una Copa España (1912), dos Copas del Rey (1995 y 2002) y tres Supercopas de España (1995, 2000 y 2002). El RC Deportivo es uno de los nueve clubes que ha sido capaz de vencer la Liga española, de la que además ha sido subcampeón en cinco ocasiones: 1949-1950, 1993-1994, 1994-1995, 2000-2001 y 2001-2002. También se proclamó campeón de la Segunda División en cinco ocasiones (1961-1962, 1963-1964, 1965-1966, 1967-1968 y 2011-2012), aunque en las cuatro primeras dicha categoría estaba dividida en dos grupos y el RC Deportivo fue primer clasificado del Grupo Norte. También fue campeón de Tercera División en la única campaña en la que militó en dicha categoría (1974-1975). En sus primeras décadas de vida, el RC Deportivo conquistó seis Campeonatos de Galicia, en 1927, 1928, 1931, 1933, 1937 y 1940.\n",
      "RCDEPORTIVO\n",
      "* [SIM=0.880389] #ANOSAHISTORIA | RCDeportivo | Página Oficial del RC Deportivo de La Coruña\n",
      "Skip to main content\n",
      "DéporTienda\n",
      "Entradas\n",
      "Abonos\n",
      "¡Alta Online!\n",
      "Áreas VIP\n",
      "NOTICIAS\n",
      "Entradas\n",
      "#DéporMedia\n",
      "Vídeos\n",
      "Galerías\n",
      "#OSNOSOS\n",
      "Plan de trabajo\n",
      "Estado  físico-médico\n",
      "Resultados\n",
      "Clasificación\n",
      "#ASNOSAS\n",
      "Dépor ABANCA\n",
      "Dépor ABANCA B\n",
      "#ANOSACANTEIRA\n",
      "Fabril\n",
      "Juvenil A\n",
      "Juvenil B\n",
      "Cadete\n",
      "Infantil\n",
      "Alevín\n",
      "Benjamín\n",
      "San Tirso SD\n",
      "Fabril FC\n",
      "Orzán SD\n",
      "#ANOSAHISTORIA\n",
      "Títulos\n",
      "Historia\n",
      "Inicios\n",
      "Años 20\n",
      "Años 30\n",
      "Años 40\n",
      "Años 50\n",
      "Años 60\n",
      "Años 70\n",
      "Años 80\n",
      "Años 90\n",
      "S. XXI\n",
      "Presente\n",
      "Protagonistas\n",
      "Plantillas históricas\n",
      "Jugadores Legendarios\n",
      "Entrenadores\n",
      "Presidentes\n",
      "Camisetas\n",
      "Secciones\n",
      "Ajedrez\n",
      "Atletismo\n",
      "Baloncesto\n",
      "Balonmano\n",
      "Boxeo\n",
      "Ciclismo\n",
      "Hockey Hierba\n",
      "Hockey patines\n",
      "Natación\n",
      "Rugby\n",
      "Tenis\n",
      "Figuras\n",
      "Torneos\n",
      "Trofeo Teresa Herrera\n",
      "Trofeo Juan Acuña\n",
      "Trofeo Conde de Fenosa\n",
      "Veteranos\n",
      "#ANOSACASA\n",
      "Sede social\n",
      "ABANCA-RIAZOR\n",
      "Historia de Riazor\n",
      "Palcos VIP\n",
      "Abegondo\n",
      "DéporTienda\n",
      "#ANOSAFORZA\n",
      "Oficina de Atención al Deportivismo (OAD)\n",
      "Personas Socias\n"
     ]
    }
   ],
   "source": [
    "results = vector_store.similarity_search_with_score(\n",
    "    \"The History of Deportivo de la Coruña\", k=3,\n",
    ")\n",
    "for res, score in results:\n",
    "    print(f\"* [SIM={score:3f}] {res.page_content}\")\n"
   ]
  },
  {
   "cell_type": "code",
   "execution_count": 55,
   "metadata": {},
   "outputs": [],
   "source": [
    "retriever = vector_store.as_retriever(\n",
    "    search_type=\"similarity\",  search_kwargs={\"k\": 3}\n",
    ")"
   ]
  },
  {
   "cell_type": "code",
   "execution_count": 61,
   "metadata": {},
   "outputs": [
    {
     "name": "stdout",
     "output_type": "stream",
     "text": [
      "Resultado 1:\n",
      "Indicadores TI\n",
      "Descargas\n",
      "Contacto\n",
      "Canal Ético\n",
      "ES\n",
      "#ANOSAHISTORIA\n",
      "El RC Deportivo ha conquistado siete títulos oficiales a lo largo de su historia. Un Campeonato de Liga (1999-2000), una Copa España (1912), dos Copas del Rey (1995 y 2002) y tres Supercopas de España (1995, 2000 y 2002). El RC Deportivo es uno de los nueve clubes que ha sido capaz de vencer la Liga española, de la que además ha sido subcampeón en cinco ocasiones: 1949-1950, 1993-1994, 1994-1995, 2000-2001 y 2001-2002. También se proclamó campeón de la Segunda División en cinco ocasiones (1961-1962, 1963-1964, 1965-1966, 1967-1968 y 2011-2012), aunque en las cuatro primeras dicha categoría estaba dividida en dos grupos y el RC Deportivo fue primer clasificado del Grupo Norte. También fue campeón de Tercera División en la única campaña en la que militó en dicha categoría (1974-1975). En sus primeras décadas de vida, el RC Deportivo conquistó seis Campeonatos de Galicia, en 1927, 1928, 1931, 1933, 1937 y 1940.\n",
      "RCDEPORTIVO\n",
      "\n",
      "Resultado 2:\n",
      "RCDEPORTIVO\n",
      "El RC Deportivo visita la exposición sobre la vida y obra de Cheché Martín\n",
      "El Dépor, único equipo campeón de las tres primeras categorías del fútbol español\n",
      "#OSNOSOS\n",
      "Ignacio García Vázquez, coordinador del fútbol base y directivo del RC Deportivo entre 1986 y 1988, falleció a los 77 años de edad\n",
      "#ANOSAHISTORIA\n",
      "El RC Deportivo recibió en ABANCA-RIAZOR a Pauleta, campeón de Liga como blanquiazul en 2000\n",
      "#ANOSAHISTORIA\n",
      "Vegazo, extremo deportivista a mediados de los años 50, falleció a los 90 años\n",
      "#ANOSAHISTORIA\n",
      "Celestino Ledo, jugador deportivista en la temporada 1954-55, falleció a los 89 años\n",
      "#ANOSAHISTORIA\n",
      "Paco Lodeiro Barbeito, directivo deportivista entre 1982 y 1986, falleció hoy a los 85 años\n",
      "#ANOSAHISTORIA\n",
      "Cano, jugador del Dépor entre 1983 y 1985, falleció a los 67 años\n",
      "#ANOSAHISTORIA\n",
      "Fallece Luis 'el Chato', icono blanquiazul de los años 60 y 70\n",
      "#ANOSAHISTORIA\n",
      "Ver más\n",
      "Aviso Legal y Condiciones de Uso\n",
      "Política de cookies\n",
      "Política de privacidad\n",
      "Configuración de cookies\n",
      "\n",
      "Resultado 3:\n",
      "#ANOSAHISTORIA | RCDeportivo | Página Oficial del RC Deportivo de La Coruña\n",
      "Skip to main content\n",
      "DéporTienda\n",
      "Entradas\n",
      "Abonos\n",
      "¡Alta Online!\n",
      "Áreas VIP\n",
      "NOTICIAS\n",
      "Entradas\n",
      "#DéporMedia\n",
      "Vídeos\n",
      "Galerías\n",
      "#OSNOSOS\n",
      "Plan de trabajo\n",
      "Estado  físico-médico\n",
      "Resultados\n",
      "Clasificación\n",
      "#ASNOSAS\n",
      "Dépor ABANCA\n",
      "Dépor ABANCA B\n",
      "#ANOSACANTEIRA\n",
      "Fabril\n",
      "Juvenil A\n",
      "Juvenil B\n",
      "Cadete\n",
      "Infantil\n",
      "Alevín\n",
      "Benjamín\n",
      "San Tirso SD\n",
      "Fabril FC\n",
      "Orzán SD\n",
      "#ANOSAHISTORIA\n",
      "Títulos\n",
      "Historia\n",
      "Inicios\n",
      "Años 20\n",
      "Años 30\n",
      "Años 40\n",
      "Años 50\n",
      "Años 60\n",
      "Años 70\n",
      "Años 80\n",
      "Años 90\n",
      "S. XXI\n",
      "Presente\n",
      "Protagonistas\n",
      "Plantillas históricas\n",
      "Jugadores Legendarios\n",
      "Entrenadores\n",
      "Presidentes\n",
      "Camisetas\n",
      "Secciones\n",
      "Ajedrez\n",
      "Atletismo\n",
      "Baloncesto\n",
      "Balonmano\n",
      "Boxeo\n",
      "Ciclismo\n",
      "Hockey Hierba\n",
      "Hockey patines\n",
      "Natación\n",
      "Rugby\n",
      "Tenis\n",
      "Figuras\n",
      "Torneos\n",
      "Trofeo Teresa Herrera\n",
      "Trofeo Juan Acuña\n",
      "Trofeo Conde de Fenosa\n",
      "Veteranos\n",
      "#ANOSACASA\n",
      "Sede social\n",
      "ABANCA-RIAZOR\n",
      "Historia de Riazor\n",
      "Palcos VIP\n",
      "Abegondo\n",
      "DéporTienda\n",
      "#ANOSAFORZA\n",
      "Oficina de Atención al Deportivismo (OAD)\n",
      "Personas Socias\n",
      "\n"
     ]
    }
   ],
   "source": [
    "query = \"What is the nickname of Deportivo de La Coruña?\"\n",
    "results = retriever.get_relevant_documents(query)  \n",
    "\n",
    "for i, result in enumerate(results):\n",
    "    print(f\"Resultado {i+1}:\")\n",
    "    print(result.page_content) \n",
    "    print()"
   ]
  },
  {
   "cell_type": "code",
   "execution_count": 57,
   "metadata": {},
   "outputs": [],
   "source": [
    "template = \"\"\"Answer the question based only on the following context:\n",
    "{context}\n",
    "\n",
    "Question: {question}\n",
    "\"\"\"\n",
    "prompt = ChatPromptTemplate.from_template(template)\n",
    "\n",
    "ollama_llm = \"llama3.2\"\n",
    "model_local = ChatOllama(model=ollama_llm)\n",
    "\n",
    "chain = (\n",
    "    {\"context\": retriever, \"question\": RunnablePassthrough()}\n",
    "    | prompt\n",
    "    | model_local\n",
    "    | StrOutputParser()\n",
    ")"
   ]
  },
  {
   "cell_type": "code",
   "execution_count": 63,
   "metadata": {},
   "outputs": [
    {
     "data": {
      "text/plain": [
       "'Deportivo de La Coruña ganó la Liga española en una ocasión, en la temporada 1999-2000.'"
      ]
     },
     "execution_count": 63,
     "metadata": {},
     "output_type": "execute_result"
    }
   ],
   "source": [
    "chain.invoke(\"When did Deportivo de La Coruña win La Liga?\")"
   ]
  },
  {
   "cell_type": "markdown",
   "metadata": {},
   "source": [
    "## Crear GUI"
   ]
  },
  {
   "cell_type": "code",
   "execution_count": 67,
   "metadata": {},
   "outputs": [],
   "source": [
    "def search_chroma(query, top_k):\n",
    "    try:   \n",
    "        results = vector_store.similarity_search(query, k=top_k)\n",
    "        return \"\\n\\n\".join(\n",
    "            [f\"**Result {i+1}:**\\n{doc.page_content}\" for i, doc in enumerate(results)]\n",
    "        )\n",
    "    except Exception as e:\n",
    "        return f\"Error: {e}\""
   ]
  },
  {
   "cell_type": "code",
   "execution_count": 68,
   "metadata": {},
   "outputs": [],
   "source": [
    "import gradio as gr"
   ]
  },
  {
   "cell_type": "code",
   "execution_count": 66,
   "metadata": {},
   "outputs": [
    {
     "name": "stdout",
     "output_type": "stream",
     "text": [
      "* Running on local URL:  http://127.0.0.1:7861\n",
      "\n",
      "To create a public link, set `share=True` in `launch()`.\n"
     ]
    },
    {
     "data": {
      "text/html": [
       "<div><iframe src=\"http://127.0.0.1:7861/\" width=\"100%\" height=\"500\" allow=\"autoplay; camera; microphone; clipboard-read; clipboard-write;\" frameborder=\"0\" allowfullscreen></iframe></div>"
      ],
      "text/plain": [
       "<IPython.core.display.HTML object>"
      ]
     },
     "metadata": {},
     "output_type": "display_data"
    },
    {
     "data": {
      "text/plain": []
     },
     "execution_count": 66,
     "metadata": {},
     "output_type": "execute_result"
    }
   ],
   "source": [
    "with gr.Blocks() as demo:\n",
    "    gr.Markdown(\"### Chroma Database Search\")\n",
    "    \n",
    "    with gr.Row():\n",
    "        query_input = gr.Textbox(label=\"Enter Your Query\", placeholder=\"Type your question here...\")\n",
    "        top_k_input = gr.Slider(1, 10, step=1, value=5, label=\"Number of Results\")\n",
    "\n",
    "    search_button = gr.Button(\"Search\")\n",
    "    output_box = gr.Textbox(label=\"Search Results\", lines=15)\n",
    "\n",
    "    search_button.click(fn=search_chroma, inputs=[query_input, top_k_input], outputs=output_box)\n",
    "\n",
    "demo.launch()"
   ]
  }
 ],
 "metadata": {
  "kernelspec": {
   "display_name": "proyecto-bida",
   "language": "python",
   "name": "python3"
  },
  "language_info": {
   "codemirror_mode": {
    "name": "ipython",
    "version": 3
   },
   "file_extension": ".py",
   "mimetype": "text/x-python",
   "name": "python",
   "nbconvert_exporter": "python",
   "pygments_lexer": "ipython3",
   "version": "3.12.7"
  }
 },
 "nbformat": 4,
 "nbformat_minor": 2
}
