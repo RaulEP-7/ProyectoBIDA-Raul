{
 "cells": [
  {
   "cell_type": "code",
   "execution_count": null,
   "metadata": {},
   "outputs": [],
   "source": [
    "!pip install langchain langchain_ollama\n",
    "!pip install chromadb sentence-transformers langchain_huggingface langchain_chroma"
   ]
  }
 ],
 "metadata": {
  "kernelspec": {
   "display_name": "proyecto-bida",
   "language": "python",
   "name": "python3"
  },
  "language_info": {
   "name": "python",
   "version": "3.12.7"
  }
 },
 "nbformat": 4,
 "nbformat_minor": 2
}
