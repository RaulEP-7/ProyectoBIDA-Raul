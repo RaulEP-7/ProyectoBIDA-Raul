{
 "cells": [
  {
   "cell_type": "code",
   "execution_count": null,
   "metadata": {},
   "outputs": [],
   "source": [
    "!pip install PyPDF2"
   ]
  },
  {
   "cell_type": "markdown",
   "metadata": {},
   "source": [
    "## Librerias"
   ]
  },
  {
   "cell_type": "code",
   "execution_count": 16,
   "metadata": {},
   "outputs": [],
   "source": [
    "from langchain_huggingface import HuggingFaceEmbeddings\n",
    "from langchain_chroma import Chroma\n",
    "from langchain_core.output_parsers import StrOutputParser\n",
    "from langchain.prompts import ChatPromptTemplate\n",
    "from langchain_ollama.chat_models import ChatOllama\n",
    "from langchain_core.runnables import RunnableLambda, RunnablePassthrough"
   ]
  },
  {
   "cell_type": "markdown",
   "metadata": {},
   "source": [
    "## Cargar datos desde PDF"
   ]
  },
  {
   "cell_type": "code",
   "execution_count": 62,
   "metadata": {},
   "outputs": [],
   "source": [
    "import PyPDF2\n",
    "import os\n",
    "\n",
    "def cargar_datos_desde_pdf(ruta_pdf):\n",
    "    \"\"\"\n",
    "    Cargar datos desde un archivo PDF y extraer su texto.\n",
    "    :param ruta_pdf: Ruta del archivo PDF\n",
    "    :return: Texto extraído del PDF\n",
    "    \"\"\"\n",
    "    texto_completo = \"\"\n",
    "    try:\n",
    "        with open(ruta_pdf, 'rb') as archivo:\n",
    "            lector_pdf = PyPDF2.PdfReader(archivo)\n",
    "            for pagina in lector_pdf.pages:\n",
    "                texto_pagina = pagina.extract_text()\n",
    "                if texto_pagina:\n",
    "                    texto_completo += texto_pagina\n",
    "        return texto_completo\n",
    "    except FileNotFoundError:\n",
    "        print(\"Error: El archivo PDF no se encuentra. Verifica la ruta.\")\n",
    "    except Exception as e:\n",
    "        print(f\"Error al leer el PDF: {e}\")\n",
    "    return None\n",
    "\n",
    "# Verificar si el archivo existe\n",
    "ruta_pdf = './Historia.pdf'\n",
    "\n",
    "if os.path.isfile(ruta_pdf):\n",
    "    contenido_pdf = cargar_datos_desde_pdf(ruta_pdf)\n",
    "else:\n",
    "    print(\"Error: No se encuentra el archivo PDF.\")\n"
   ]
  },
  {
   "cell_type": "markdown",
   "metadata": {},
   "source": [
    "## Seleccionamos el Modelo que vamos a utilizar"
   ]
  },
  {
   "cell_type": "code",
   "execution_count": 63,
   "metadata": {},
   "outputs": [],
   "source": [
    "embeddings = HuggingFaceEmbeddings(model_name=\"sentence-transformers/all-mpnet-base-v2\")"
   ]
  },
  {
   "cell_type": "markdown",
   "metadata": {},
   "source": [
    "## Accedemos a la base de datos"
   ]
  },
  {
   "cell_type": "code",
   "execution_count": 64,
   "metadata": {},
   "outputs": [],
   "source": [
    "vector_store = Chroma(\n",
    "    collection_name=\"rag2\",\n",
    "    embedding_function=embeddings,\n",
    "    persist_directory=\"./datasets\",\n",
    ")"
   ]
  },
  {
   "cell_type": "code",
   "execution_count": 65,
   "metadata": {},
   "outputs": [],
   "source": [
    "# Se ve como funciona la base de datos\n",
    "retriever = vector_store.as_retriever()"
   ]
  },
  {
   "cell_type": "markdown",
   "metadata": {},
   "source": [
    "## RAG Chain"
   ]
  },
  {
   "cell_type": "code",
   "execution_count": 67,
   "metadata": {},
   "outputs": [],
   "source": [
    "# Plantilla de conversación\n",
    "conversation_template = \"\"\"Por favor, responde la siguiente pregunta basándote solo en el contexto dado:\n",
    "{context}\n",
    "\n",
    "Pregunta: {question}\n",
    "\"\"\"\n",
    "\n",
    "# Crear el prompt a partir de la plantilla\n",
    "prompt_template = ChatPromptTemplate.from_template(conversation_template)\n",
    "\n",
    "# LLM local\n",
    "local_llm = \"tinyllama\"\n",
    "local_model = ChatOllama(model=local_llm)\n",
    "\n",
    "# Cadena de procesamiento\n",
    "pregunta = (\n",
    "    {\"context\": retriever, \"question\": RunnablePassthrough()}\n",
    "    | prompt_template\n",
    "    | local_model\n",
    "    | StrOutputParser()\n",
    ")"
   ]
  },
  {
   "cell_type": "code",
   "execution_count": 71,
   "metadata": {},
   "outputs": [
    {
     "data": {
      "text/plain": [
       "'Sí, un PDF (Portable Document Format) es una estructura de datos abierto que ofrece funcionalidad de carga y descarga de documentos electrónicos en formato de imagen de archivo binario. Se crea con el objetivo de permitar la lectura a través de los dispositivos de visualización electrónico, como computadoras o teléfonos inteligentes, así como su edición y descarga por un equipo personal o en línea, incluida la carga en el servicio de archivos de almacenamiento en el Web Archive (WAR). El término PDF se deriva del símbolo \"PDF\" (Portable Document Format), que fue desarrollado originalmente por Adobe Systems.'"
      ]
     },
     "execution_count": 71,
     "metadata": {},
     "output_type": "execute_result"
    }
   ],
   "source": [
    "pregunta.invoke(\"¿Que es un PDF?\")"
   ]
  }
 ],
 "metadata": {
  "kernelspec": {
   "display_name": "proyecto-bida",
   "language": "python",
   "name": "python3"
  },
  "language_info": {
   "codemirror_mode": {
    "name": "ipython",
    "version": 3
   },
   "file_extension": ".py",
   "mimetype": "text/x-python",
   "name": "python",
   "nbconvert_exporter": "python",
   "pygments_lexer": "ipython3",
   "version": "3.12.7"
  }
 },
 "nbformat": 4,
 "nbformat_minor": 2
}
